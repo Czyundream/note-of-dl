{
  "nbformat": 4,
  "nbformat_minor": 0,
  "metadata": {
    "colab": {
      "name": "李沐动手学深度学习note",
      "provenance": [],
      "collapsed_sections": [],
      "authorship_tag": "ABX9TyNzYW5DZLFNh7LHrtU9fKAx",
      "include_colab_link": true
    },
    "kernelspec": {
      "name": "python3",
      "display_name": "Python 3"
    },
    "language_info": {
      "name": "python"
    }
  },
  "cells": [
    {
      "cell_type": "markdown",
      "metadata": {
        "id": "view-in-github",
        "colab_type": "text"
      },
      "source": [
        "<a href=\"https://colab.research.google.com/github/Czyundream/note-of-dl/blob/main/%E6%9D%8E%E6%B2%90%E5%8A%A8%E6%89%8B%E5%AD%A6%E6%B7%B1%E5%BA%A6%E5%AD%A6%E4%B9%A0note.ipynb\" target=\"_parent\"><img src=\"https://colab.research.google.com/assets/colab-badge.svg\" alt=\"Open In Colab\"/></a>"
      ]
    },
    {
      "cell_type": "code",
      "metadata": {
        "id": "mG2ogruaaFz1"
      },
      "source": [
        "import torch"
      ],
      "execution_count": null,
      "outputs": []
    },
    {
      "cell_type": "markdown",
      "metadata": {
        "id": "Q87NMbV_iIoB"
      },
      "source": [
        "张量"
      ]
    },
    {
      "cell_type": "code",
      "metadata": {
        "colab": {
          "base_uri": "https://localhost:8080/"
        },
        "id": "5mtlZFkgh8JV",
        "outputId": "5b82b789-ecc5-4e98-b12a-f96ba100b756"
      },
      "source": [
        "x=torch.arange(12)\n",
        "x"
      ],
      "execution_count": null,
      "outputs": [
        {
          "output_type": "execute_result",
          "data": {
            "text/plain": [
              "tensor([ 0,  1,  2,  3,  4,  5,  6,  7,  8,  9, 10, 11])"
            ]
          },
          "metadata": {},
          "execution_count": 2
        }
      ]
    },
    {
      "cell_type": "code",
      "metadata": {
        "colab": {
          "base_uri": "https://localhost:8080/"
        },
        "id": "7hkd7UfWiSTv",
        "outputId": "15406dfa-757c-4ea3-b5e4-e3e172aa4ada"
      },
      "source": [
        "x.shape"
      ],
      "execution_count": null,
      "outputs": [
        {
          "output_type": "execute_result",
          "data": {
            "text/plain": [
              "torch.Size([12])"
            ]
          },
          "metadata": {},
          "execution_count": 4
        }
      ]
    },
    {
      "cell_type": "code",
      "metadata": {
        "colab": {
          "base_uri": "https://localhost:8080/"
        },
        "id": "6V4h_lo_i3xu",
        "outputId": "93d99422-a0e5-41e8-c088-b70595265de2"
      },
      "source": [
        "x.numel()"
      ],
      "execution_count": null,
      "outputs": [
        {
          "output_type": "execute_result",
          "data": {
            "text/plain": [
              "12"
            ]
          },
          "metadata": {},
          "execution_count": 5
        }
      ]
    },
    {
      "cell_type": "markdown",
      "metadata": {
        "id": "fHUKHx5aiLmK"
      },
      "source": [
        "numel=number of elements方法显示元素标量个数 shape显示长量形状"
      ]
    },
    {
      "cell_type": "code",
      "metadata": {
        "colab": {
          "base_uri": "https://localhost:8080/"
        },
        "id": "DHwjWYuIjWXc",
        "outputId": "e492e275-7766-42b6-8491-d8abd64c4757"
      },
      "source": [
        "x.reshape(3,4)"
      ],
      "execution_count": null,
      "outputs": [
        {
          "output_type": "execute_result",
          "data": {
            "text/plain": [
              "tensor([[ 0,  1,  2,  3],\n",
              "        [ 4,  5,  6,  7],\n",
              "        [ 8,  9, 10, 11]])"
            ]
          },
          "metadata": {},
          "execution_count": 6
        }
      ]
    },
    {
      "cell_type": "markdown",
      "metadata": {
        "id": "8V9ha_HMmFeR"
      },
      "source": [
        "深度2，三行，4列"
      ]
    },
    {
      "cell_type": "code",
      "metadata": {
        "colab": {
          "base_uri": "https://localhost:8080/"
        },
        "id": "PhkuGYGAl7ko",
        "outputId": "cc2315ab-27f8-4db3-b56f-3e1b2fdc555d"
      },
      "source": [
        "torch.zeros(2,3,4)"
      ],
      "execution_count": null,
      "outputs": [
        {
          "output_type": "execute_result",
          "data": {
            "text/plain": [
              "tensor([[[0., 0., 0., 0.],\n",
              "         [0., 0., 0., 0.],\n",
              "         [0., 0., 0., 0.]],\n",
              "\n",
              "        [[0., 0., 0., 0.],\n",
              "         [0., 0., 0., 0.],\n",
              "         [0., 0., 0., 0.]]])"
            ]
          },
          "metadata": {},
          "execution_count": 7
        }
      ]
    },
    {
      "cell_type": "markdown",
      "metadata": {
        "id": "1GKr72-LmEV0"
      },
      "source": [
        "torchtorch.ones()全1"
      ]
    },
    {
      "cell_type": "code",
      "metadata": {
        "colab": {
          "base_uri": "https://localhost:8080/"
        },
        "id": "uxhKEOx9mVR9",
        "outputId": "aedfc38f-dc15-4bed-8c96-8529b51e3288"
      },
      "source": [
        " x=torch.tensor([[2, 1, 4, 3], [1, 2, 3, 4], [4, 3, 2, 1]])\n",
        "x.shape"
      ],
      "execution_count": null,
      "outputs": [
        {
          "output_type": "execute_result",
          "data": {
            "text/plain": [
              "tensor([[2, 1, 4, 3],\n",
              "        [1, 2, 3, 4],\n",
              "        [4, 3, 2, 1]])"
            ]
          },
          "metadata": {},
          "execution_count": 12
        }
      ]
    },
    {
      "cell_type": "code",
      "metadata": {
        "colab": {
          "base_uri": "https://localhost:8080/"
        },
        "id": "D_OrhFyrt7oc",
        "outputId": "f9feb322-d9de-4b03-b3db-128f96152cb3"
      },
      "source": [
        "x.shape"
      ],
      "execution_count": null,
      "outputs": [
        {
          "output_type": "execute_result",
          "data": {
            "text/plain": [
              "torch.Size([3, 4])"
            ]
          },
          "metadata": {},
          "execution_count": 13
        }
      ]
    },
    {
      "cell_type": "markdown",
      "metadata": {
        "id": "E_64W1uJuKjL"
      },
      "source": [
        "##**2.1运算部分**"
      ]
    },
    {
      "cell_type": "code",
      "metadata": {
        "colab": {
          "base_uri": "https://localhost:8080/"
        },
        "id": "0k61bIiTvEti",
        "outputId": "402ec4fd-36ae-4a2d-b8ee-ce668a9a230a"
      },
      "source": [
        "x = torch.tensor([1.0, 2, 4, 8])\n",
        "y = torch.tensor([2, 2, 2, 2])\n",
        "x + y, x - y, x * y, x / y, x ** y  # **运算符是求幂运算"
      ],
      "execution_count": null,
      "outputs": [
        {
          "output_type": "execute_result",
          "data": {
            "text/plain": [
              "(tensor([ 3.,  4.,  6., 10.]),\n",
              " tensor([-1.,  0.,  2.,  6.]),\n",
              " tensor([ 2.,  4.,  8., 16.]),\n",
              " tensor([0.5000, 1.0000, 2.0000, 4.0000]),\n",
              " tensor([ 1.,  4., 16., 64.]))"
            ]
          },
          "metadata": {},
          "execution_count": 14
        }
      ]
    },
    {
      "cell_type": "markdown",
      "metadata": {
        "id": "MPx07HkIve72"
      },
      "source": [
        "简单运算，+，-，*，**"
      ]
    },
    {
      "cell_type": "code",
      "metadata": {
        "colab": {
          "base_uri": "https://localhost:8080/"
        },
        "id": "7VssxOJQvsc3",
        "outputId": "d1271bfe-6ade-4fce-cfe4-34c14b4bd12d"
      },
      "source": [
        "torch.exp(x)"
      ],
      "execution_count": null,
      "outputs": [
        {
          "output_type": "execute_result",
          "data": {
            "text/plain": [
              "tensor([2.7183e+00, 7.3891e+00, 5.4598e+01, 2.9810e+03])"
            ]
          },
          "metadata": {},
          "execution_count": 15
        }
      ]
    },
    {
      "cell_type": "markdown",
      "metadata": {
        "id": "0UxvlTHGv3Hw"
      },
      "source": [
        "指数运算"
      ]
    },
    {
      "cell_type": "code",
      "metadata": {
        "id": "uVGHLgChv7ng"
      },
      "source": [
        "X=torch.arange(24, dtype=torch.float32).reshape(2,3,4)\n",
        "Y=torch.tensor([[[2.0,1,4,3],[1,2,3,4],[4,3,2,1]],[[5.0,2,1,3],[2,4,6,8],[8,6,4,2]]])\n",
        "print(torch.cat((X, Y), dim=0)), print(torch.cat((X, Y), dim=1)),print(torch.cat((X,Y),dim=2))"
      ],
      "execution_count": null,
      "outputs": []
    },
    {
      "cell_type": "code",
      "metadata": {
        "colab": {
          "base_uri": "https://localhost:8080/"
        },
        "id": "m3L0Xq4Yzwc9",
        "outputId": "4e795fa3-cdbb-4433-8abf-26d50551cf7a"
      },
      "source": [
        "X = torch.arange(12, dtype=torch.float32).reshape((3,4))\n",
        "Y = torch.tensor([[2.0, 1, 4, 3], [1, 2, 3, 4], [4, 3, 2, 1]])\n",
        "torch.cat((X, Y), dim=0), torch.cat((X, Y), dim=1)"
      ],
      "execution_count": null,
      "outputs": [
        {
          "output_type": "execute_result",
          "data": {
            "text/plain": [
              "(tensor([[ 0.,  1.,  2.,  3.],\n",
              "         [ 4.,  5.,  6.,  7.],\n",
              "         [ 8.,  9., 10., 11.],\n",
              "         [ 2.,  1.,  4.,  3.],\n",
              "         [ 1.,  2.,  3.,  4.],\n",
              "         [ 4.,  3.,  2.,  1.]]),\n",
              " tensor([[ 0.,  1.,  2.,  3.,  2.,  1.,  4.,  3.],\n",
              "         [ 4.,  5.,  6.,  7.,  1.,  2.,  3.,  4.],\n",
              "         [ 8.,  9., 10., 11.,  4.,  3.,  2.,  1.]]))"
            ]
          },
          "metadata": {},
          "execution_count": 37
        }
      ]
    },
    {
      "cell_type": "markdown",
      "metadata": {
        "id": "gc2eDsCzx2VJ"
      },
      "source": [
        "进行张量的拼接,python语音从0开始，dim=0在二维表示行，三维表示深度，"
      ]
    },
    {
      "cell_type": "code",
      "metadata": {
        "colab": {
          "base_uri": "https://localhost:8080/"
        },
        "id": "1v2dv2IBwia_",
        "outputId": "eb0bf5d2-09fa-4966-e993-4cac77aeee2b"
      },
      "source": [
        "X==Y"
      ],
      "execution_count": null,
      "outputs": [
        {
          "output_type": "execute_result",
          "data": {
            "text/plain": [
              "tensor([[False,  True, False,  True],\n",
              "        [False, False, False, False],\n",
              "        [False, False, False, False]])"
            ]
          },
          "metadata": {},
          "execution_count": 38
        }
      ]
    },
    {
      "cell_type": "markdown",
      "metadata": {
        "id": "BI0CGrIfzqCo"
      },
      "source": [
        "逻辑运算符构建二维张量"
      ]
    },
    {
      "cell_type": "code",
      "metadata": {
        "colab": {
          "base_uri": "https://localhost:8080/"
        },
        "id": "bsEnR80q2KPd",
        "outputId": "0d49f4e6-0f27-4d16-cd8e-c01319e3fa5e"
      },
      "source": [
        "X.sum()"
      ],
      "execution_count": null,
      "outputs": [
        {
          "output_type": "execute_result",
          "data": {
            "text/plain": [
              "tensor(66.)"
            ]
          },
          "metadata": {},
          "execution_count": 39
        }
      ]
    },
    {
      "cell_type": "markdown",
      "metadata": {
        "id": "qWdbFVv62RYy"
      },
      "source": [
        "对于张量中所有元素求和"
      ]
    },
    {
      "cell_type": "markdown",
      "metadata": {
        "id": "dJZK-aKD2tnN"
      },
      "source": [
        "##2.1.3 广播机制"
      ]
    },
    {
      "cell_type": "code",
      "metadata": {
        "colab": {
          "base_uri": "https://localhost:8080/"
        },
        "id": "_78D7xcC21B5",
        "outputId": "45958825-9505-4b75-ab66-00d3f2e6a60b"
      },
      "source": [
        "a = torch.arange(3).reshape((3, 1))\n",
        "b = torch.arange(2).reshape((1, 2))\n",
        "a, b"
      ],
      "execution_count": null,
      "outputs": [
        {
          "output_type": "execute_result",
          "data": {
            "text/plain": [
              "(tensor([[0],\n",
              "         [1],\n",
              "         [2]]), tensor([[0, 1]]))"
            ]
          },
          "metadata": {},
          "execution_count": 41
        }
      ]
    },
    {
      "cell_type": "markdown",
      "metadata": {
        "id": "DEy_Sv_V3yan"
      },
      "source": [
        "a与b两个张量维度并不相同，相加则将它们统一为同一维度，即不足的复制。"
      ]
    },
    {
      "cell_type": "code",
      "metadata": {
        "colab": {
          "base_uri": "https://localhost:8080/"
        },
        "id": "WoANq6dp3_Sb",
        "outputId": "ac29d1c7-7a4a-46c1-c21d-a53622042be2"
      },
      "source": [
        "a+b"
      ],
      "execution_count": null,
      "outputs": [
        {
          "output_type": "execute_result",
          "data": {
            "text/plain": [
              "tensor([[0, 1],\n",
              "        [1, 2],\n",
              "        [2, 3]])"
            ]
          },
          "metadata": {},
          "execution_count": 42
        }
      ]
    },
    {
      "cell_type": "markdown",
      "metadata": {
        "id": "CM6Rs_vL4ai6"
      },
      "source": [
        "##2.1.4索引与切片"
      ]
    },
    {
      "cell_type": "code",
      "metadata": {
        "colab": {
          "base_uri": "https://localhost:8080/"
        },
        "id": "2VMsCIgx5AqH",
        "outputId": "7debd8db-2589-474b-9d4a-008207cabef4"
      },
      "source": [
        "X[-1], X[1:3]"
      ],
      "execution_count": null,
      "outputs": [
        {
          "output_type": "execute_result",
          "data": {
            "text/plain": [
              "(tensor([ 8.,  9., 10., 11.]), tensor([[ 4.,  5.,  6.,  7.],\n",
              "         [ 8.,  9., 10., 11.]]))"
            ]
          },
          "metadata": {},
          "execution_count": 43
        }
      ]
    },
    {
      "cell_type": "markdown",
      "metadata": {
        "id": "t-JPUEB35N5j"
      },
      "source": [
        "通过指定索引来将元素写入矩阵"
      ]
    },
    {
      "cell_type": "code",
      "metadata": {
        "colab": {
          "base_uri": "https://localhost:8080/"
        },
        "id": "yWYqywJ55Fuf",
        "outputId": "eac4f491-e88f-4353-df71-f5f4f3e6cd95"
      },
      "source": [
        "X[1,2]=9\n",
        "X"
      ],
      "execution_count": null,
      "outputs": [
        {
          "output_type": "execute_result",
          "data": {
            "text/plain": [
              "tensor([[ 0.,  1.,  2.,  3.],\n",
              "        [ 4.,  5.,  9.,  7.],\n",
              "        [ 8.,  9., 10., 11.]])"
            ]
          },
          "metadata": {},
          "execution_count": 44
        }
      ]
    },
    {
      "cell_type": "code",
      "metadata": {
        "colab": {
          "base_uri": "https://localhost:8080/"
        },
        "id": "6g5bDym75Vqy",
        "outputId": "d24c12b1-3740-48bf-cdad-9ddb2f423b5b"
      },
      "source": [
        "X[0:2]=12\n",
        "X"
      ],
      "execution_count": null,
      "outputs": [
        {
          "output_type": "execute_result",
          "data": {
            "text/plain": [
              "tensor([[12., 12., 12., 12.],\n",
              "        [12., 12., 12., 12.],\n",
              "        [ 8.,  9., 10., 11.]])"
            ]
          },
          "metadata": {},
          "execution_count": 45
        }
      ]
    },
    {
      "cell_type": "markdown",
      "metadata": {
        "id": "ruiI5kfu51C-"
      },
      "source": [
        "#2.1.5 节省内存"
      ]
    },
    {
      "cell_type": "markdown",
      "metadata": {
        "id": "UzustT-k6NOk"
      },
      "source": [
        "运行Y = Y + X后，我们会发现id(Y)指向另一个位置"
      ]
    },
    {
      "cell_type": "code",
      "metadata": {
        "colab": {
          "base_uri": "https://localhost:8080/"
        },
        "id": "NNsNb_vq56zl",
        "outputId": "e206ceae-3811-413e-9d49-d7f927ea31b1"
      },
      "source": [
        "before = id(Y)\n",
        "Y = Y + X\n",
        "id(Y) == before"
      ],
      "execution_count": null,
      "outputs": [
        {
          "output_type": "execute_result",
          "data": {
            "text/plain": [
              "False"
            ]
          },
          "metadata": {},
          "execution_count": 46
        }
      ]
    },
    {
      "cell_type": "markdown",
      "metadata": {
        "id": "LC33xGH5FKcv"
      },
      "source": [
        "执行原地操作"
      ]
    },
    {
      "cell_type": "code",
      "metadata": {
        "colab": {
          "base_uri": "https://localhost:8080/"
        },
        "id": "siOKiw6y6SKQ",
        "outputId": "c894d298-70ff-4374-e1b5-15d01679a522"
      },
      "source": [
        "z=torch.zeros_like(Y)\n",
        "print(\"id(z):\",id(z))\n",
        "z[:]=X+Y\n",
        "print(\"id(z):\",id(z))"
      ],
      "execution_count": null,
      "outputs": [
        {
          "output_type": "stream",
          "name": "stdout",
          "text": [
            "id(z): 139959215268976\n",
            "id(z): 139959215268976\n"
          ]
        }
      ]
    },
    {
      "cell_type": "code",
      "metadata": {
        "colab": {
          "base_uri": "https://localhost:8080/"
        },
        "id": "ESxuJOshFcFw",
        "outputId": "e075ce99-1f98-421a-cc13-05600620a5b3"
      },
      "source": [
        "before = id(X)\n",
        "X += Y\n",
        "id(X) == before"
      ],
      "execution_count": null,
      "outputs": [
        {
          "output_type": "execute_result",
          "data": {
            "text/plain": [
              "True"
            ]
          },
          "metadata": {},
          "execution_count": 48
        }
      ]
    },
    {
      "cell_type": "markdown",
      "metadata": {
        "id": "qZ6sc7jrFVJZ"
      },
      "source": [
        "#2.1.6转换为其他python对象"
      ]
    },
    {
      "cell_type": "code",
      "metadata": {
        "colab": {
          "base_uri": "https://localhost:8080/"
        },
        "id": "jeDnsMavFZ4N",
        "outputId": "91de9dc3-441b-4397-e71a-93b11d90b883"
      },
      "source": [
        "A = X.numpy()\n",
        "B = torch.tensor(A)\n",
        "type(A), type(B)"
      ],
      "execution_count": null,
      "outputs": [
        {
          "output_type": "execute_result",
          "data": {
            "text/plain": [
              "(numpy.ndarray, torch.Tensor)"
            ]
          },
          "metadata": {},
          "execution_count": 49
        }
      ]
    },
    {
      "cell_type": "markdown",
      "metadata": {
        "id": "osvUDyW2BvtI"
      },
      "source": [
        "大小为1的张量转换为Python标量"
      ]
    },
    {
      "cell_type": "code",
      "metadata": {
        "id": "HTLa8Y8BFnfV",
        "colab": {
          "base_uri": "https://localhost:8080/"
        },
        "outputId": "42ec4c08-e6e9-41cc-b52d-2812eef3598f"
      },
      "source": [
        "a = torch.tensor([3.5])\n",
        "a, a.item(), float(a), int(a)"
      ],
      "execution_count": null,
      "outputs": [
        {
          "output_type": "execute_result",
          "data": {
            "text/plain": [
              "(tensor([3.5000]), 3.5, 3.5, 3)"
            ]
          },
          "metadata": {},
          "execution_count": 50
        }
      ]
    },
    {
      "cell_type": "markdown",
      "metadata": {
        "id": "d-77yfkiCILm"
      },
      "source": [
        "#数据预处理"
      ]
    },
    {
      "cell_type": "markdown",
      "metadata": {
        "id": "GxSh-HqOCmcZ"
      },
      "source": [
        "1.创建数据集"
      ]
    },
    {
      "cell_type": "code",
      "metadata": {
        "id": "7tdoqZ6lCLFj"
      },
      "source": [
        "import os\n",
        "\n",
        "os.makedirs(os.path.join('..','data'),exist_ok=True)\n",
        "data_file = os.path.join('..','data','house_tiny.csv')\n",
        "with open(data_file,'w') as f:\n",
        "    f.write('NumRooms,Alley,Price\\n') #列名\n",
        "    f.write('NA,Rave,127500\\n')   #每行表示一个数据样本\n",
        "    f.write('2,NA,106000\\n')\n",
        "    f.write('4,NA,178100\\n')\n",
        "    f.write('NA,NA,140000\\n')"
      ],
      "execution_count": null,
      "outputs": []
    },
    {
      "cell_type": "markdown",
      "metadata": {
        "id": "lPVluWZiMHjy"
      },
      "source": [
        "从创建的CSV文件中读取原始数据集"
      ]
    },
    {
      "cell_type": "code",
      "metadata": {
        "colab": {
          "base_uri": "https://localhost:8080/"
        },
        "id": "EKqAbRbRMS1f",
        "outputId": "3eb7f0af-c88b-412d-b310-4f82af187c41"
      },
      "source": [
        "import pandas as pd\n",
        "\n",
        "data = pd.read_csv(data_file)\n",
        "print(data)"
      ],
      "execution_count": null,
      "outputs": [
        {
          "output_type": "stream",
          "name": "stdout",
          "text": [
            "   NumRooms Alley   Price\n",
            "0       NaN  Rave  127500\n",
            "1       2.0   NaN  106000\n",
            "2       4.0   NaN  178100\n",
            "3       NaN   NaN  140000\n"
          ]
        }
      ]
    },
    {
      "cell_type": "markdown",
      "metadata": {
        "id": "-dIlp_sYNR4i"
      },
      "source": [
        "处理缺失的数据，典型的方法，*插值*与*删除* ，首先采用插值"
      ]
    },
    {
      "cell_type": "code",
      "metadata": {
        "colab": {
          "base_uri": "https://localhost:8080/"
        },
        "id": "W_PyVc3mN7tl",
        "outputId": "d4476a04-42f8-4081-b55c-fb99b2c8e76b"
      },
      "source": [
        "inputs , outputs= data.iloc[:,0:2] , data.iloc[:,2]\n",
        "inputs=inputs.fillna(inputs.mean())\n",
        "print(inputs)"
      ],
      "execution_count": null,
      "outputs": [
        {
          "output_type": "stream",
          "name": "stdout",
          "text": [
            "   NumRooms Alley\n",
            "0       3.0  Rave\n",
            "1       2.0   NaN\n",
            "2       4.0   NaN\n",
            "3       3.0   NaN\n"
          ]
        }
      ]
    },
    {
      "cell_type": "markdown",
      "metadata": {
        "id": "doSQc6KyaDTw"
      },
      "source": [
        "```\n",
        "data.iloc\n",
        "```\n",
        "\n",
        "代表按照index查找\n",
        "```\n",
        "data.loc\n",
        "```\n",
        "loc代表按照行列名查找元素\n",
        "\n",
        "`mean()`代表对一列求其平均值"
      ]
    },
    {
      "cell_type": "markdown",
      "metadata": {
        "id": "c252-QrHa4un"
      },
      "source": [
        "对于`iuput`中的类别值或者离散值，我们可以将NaN是为一个类别"
      ]
    },
    {
      "cell_type": "code",
      "metadata": {
        "colab": {
          "base_uri": "https://localhost:8080/"
        },
        "id": "gx_L-gBual59",
        "outputId": "802df8a2-b509-4364-94e9-4a5e2c0032e3"
      },
      "source": [
        "inputs = pd.get_dummies(inputs,dummy_na=True)\n",
        "print(inputs)"
      ],
      "execution_count": null,
      "outputs": [
        {
          "output_type": "stream",
          "name": "stdout",
          "text": [
            "   NumRooms  Alley_Rave  Alley_nan\n",
            "0       3.0           1          0\n",
            "1       2.0           0          1\n",
            "2       4.0           0          1\n",
            "3       3.0           0          1\n"
          ]
        }
      ]
    },
    {
      "cell_type": "markdown",
      "metadata": {
        "id": "229C_RumlFUR"
      },
      "source": [
        "将inputs与outputs中转换为张量形式"
      ]
    },
    {
      "cell_type": "code",
      "metadata": {
        "colab": {
          "base_uri": "https://localhost:8080/"
        },
        "id": "I3_hA8B9lL-Y",
        "outputId": "28f884fe-11d4-41d8-9bf4-f464cfb9e81a"
      },
      "source": [
        "import torch\n",
        "X,y=torch.tensor(inputs.values),torch.tensor(outputs.values)\n",
        "X,y"
      ],
      "execution_count": null,
      "outputs": [
        {
          "output_type": "execute_result",
          "data": {
            "text/plain": [
              "(tensor([[3., 1., 0.],\n",
              "         [2., 0., 1.],\n",
              "         [4., 0., 1.],\n",
              "         [3., 0., 1.]], dtype=torch.float64),\n",
              " tensor([127500, 106000, 178100, 140000]))"
            ]
          },
          "metadata": {},
          "execution_count": 6
        }
      ]
    },
    {
      "cell_type": "markdown",
      "metadata": {
        "id": "N0yxBjbU7NTx"
      },
      "source": [
        "#线形代数的简易实现\n",
        "----\n",
        "##标量由只有一个元素的张量表示"
      ]
    },
    {
      "cell_type": "code",
      "metadata": {
        "colab": {
          "base_uri": "https://localhost:8080/"
        },
        "id": "AuS6iuj57YyY",
        "outputId": "2fdf586c-e324-4cd6-ff6e-e05a8248f7ff"
      },
      "source": [
        "import torch\n",
        "\n",
        "x = torch.tensor([3.0])\n",
        "y = torch.tensor([2.0])\n",
        "\n",
        "x + y, x * y, x / y, x ** y"
      ],
      "execution_count": null,
      "outputs": [
        {
          "output_type": "execute_result",
          "data": {
            "text/plain": [
              "(tensor([5.]), tensor([6.]), tensor([1.5000]), tensor([9.]))"
            ]
          },
          "metadata": {},
          "execution_count": 1
        }
      ]
    },
    {
      "cell_type": "markdown",
      "metadata": {
        "id": "86mUk_Cw78U7"
      },
      "source": [
        "向量（vector）可以视为由标量组成的列表"
      ]
    },
    {
      "cell_type": "code",
      "metadata": {
        "colab": {
          "base_uri": "https://localhost:8080/"
        },
        "id": "V6GrF7Bv8GeN",
        "outputId": "f26350d2-3d41-4141-eec1-903652fa5c03"
      },
      "source": [
        "x = torch.arange(4)\n",
        "x"
      ],
      "execution_count": null,
      "outputs": [
        {
          "output_type": "execute_result",
          "data": {
            "text/plain": [
              "tensor([0, 1, 2, 3])"
            ]
          },
          "metadata": {},
          "execution_count": 2
        }
      ]
    },
    {
      "cell_type": "markdown",
      "metadata": {
        "id": "oR53_oZj8OR8"
      },
      "source": [
        "我们可以通过索引来访问元素"
      ]
    },
    {
      "cell_type": "code",
      "metadata": {
        "colab": {
          "base_uri": "https://localhost:8080/"
        },
        "id": "B07_mKvL8UEu",
        "outputId": "1ba364ea-cf7f-46ad-fceb-3344a6497797"
      },
      "source": [
        "x[3]   #通过索引访问元素"
      ],
      "execution_count": null,
      "outputs": [
        {
          "output_type": "execute_result",
          "data": {
            "text/plain": [
              "tensor(3)"
            ]
          },
          "metadata": {},
          "execution_count": 3
        }
      ]
    },
    {
      "cell_type": "markdown",
      "metadata": {
        "id": "D7qaIXRR84mS"
      },
      "source": [
        "获取张量长度"
      ]
    },
    {
      "cell_type": "code",
      "metadata": {
        "colab": {
          "base_uri": "https://localhost:8080/"
        },
        "id": "hVVg8qXz88Hq",
        "outputId": "acc6122f-b13b-47e0-b310-8a06dc46db83"
      },
      "source": [
        "len(x)    #获取张量长度\n",
        "\n",
        "x.shape   #返回形状"
      ],
      "execution_count": null,
      "outputs": [
        {
          "output_type": "execute_result",
          "data": {
            "text/plain": [
              "torch.Size([4])"
            ]
          },
          "metadata": {},
          "execution_count": 4
        }
      ]
    },
    {
      "cell_type": "markdown",
      "metadata": {
        "id": "zhRj7gTL9UKy"
      },
      "source": [
        "通过指定$m,n$来创建一个$m \\times n$ 的矩阵"
      ]
    },
    {
      "cell_type": "code",
      "metadata": {
        "colab": {
          "base_uri": "https://localhost:8080/"
        },
        "id": "bKZAJ7t7_EXx",
        "outputId": "1a1bfd33-c9b9-4a39-a329-737c8b71ea40"
      },
      "source": [
        "A = torch.arange(20).reshape(5,4)\n",
        "A"
      ],
      "execution_count": null,
      "outputs": [
        {
          "output_type": "execute_result",
          "data": {
            "text/plain": [
              "tensor([[ 0,  1,  2,  3],\n",
              "        [ 4,  5,  6,  7],\n",
              "        [ 8,  9, 10, 11],\n",
              "        [12, 13, 14, 15],\n",
              "        [16, 17, 18, 19]])"
            ]
          },
          "metadata": {},
          "execution_count": 5
        }
      ]
    },
    {
      "cell_type": "markdown",
      "metadata": {
        "id": "U1Tonr5wAMHZ"
      },
      "source": [
        "转置操作"
      ]
    },
    {
      "cell_type": "code",
      "metadata": {
        "colab": {
          "base_uri": "https://localhost:8080/"
        },
        "id": "MKnM1z55ARzI",
        "outputId": "83571684-f309-4ef8-d62d-9251602f6c91"
      },
      "source": [
        "A.T"
      ],
      "execution_count": null,
      "outputs": [
        {
          "output_type": "execute_result",
          "data": {
            "text/plain": [
              "tensor([[ 0,  4,  8, 12, 16],\n",
              "        [ 1,  5,  9, 13, 17],\n",
              "        [ 2,  6, 10, 14, 18],\n",
              "        [ 3,  7, 11, 15, 19]])"
            ]
          },
          "metadata": {},
          "execution_count": 6
        }
      ]
    },
    {
      "cell_type": "markdown",
      "metadata": {
        "id": "vLe0ED82AUlc"
      },
      "source": [
        "向量推广到矩阵，通过矩阵构建更多维的数据结构"
      ]
    },
    {
      "cell_type": "code",
      "metadata": {
        "colab": {
          "base_uri": "https://localhost:8080/"
        },
        "id": "nbDF39pbCI8Y",
        "outputId": "8e63e8f6-4c21-414d-f51f-5f460566c072"
      },
      "source": [
        "X = torch.arange(24).reshape(2,3,4)\n",
        "X"
      ],
      "execution_count": null,
      "outputs": [
        {
          "output_type": "execute_result",
          "data": {
            "text/plain": [
              "tensor([[[ 0,  1,  2,  3],\n",
              "         [ 4,  5,  6,  7],\n",
              "         [ 8,  9, 10, 11]],\n",
              "\n",
              "        [[12, 13, 14, 15],\n",
              "         [16, 17, 18, 19],\n",
              "         [20, 21, 22, 23]]])"
            ]
          },
          "metadata": {},
          "execution_count": 7
        }
      ]
    },
    {
      "cell_type": "code",
      "metadata": {
        "colab": {
          "base_uri": "https://localhost:8080/"
        },
        "id": "JM9MakU2CiWw",
        "outputId": "83614f75-1724-4b23-c4f4-d455f443476a"
      },
      "source": [
        "A = torch.arange(20, dtype=torch.float32).reshape(5,4)\n",
        "B = A.clone()    #通过分配新内存， 将A的一个副本分配给BB\n",
        "A, A + B"
      ],
      "execution_count": null,
      "outputs": [
        {
          "output_type": "execute_result",
          "data": {
            "text/plain": [
              "(tensor([[ 0.,  1.,  2.,  3.],\n",
              "         [ 4.,  5.,  6.,  7.],\n",
              "         [ 8.,  9., 10., 11.],\n",
              "         [12., 13., 14., 15.],\n",
              "         [16., 17., 18., 19.]]), tensor([[ 0.,  2.,  4.,  6.],\n",
              "         [ 8., 10., 12., 14.],\n",
              "         [16., 18., 20., 22.],\n",
              "         [24., 26., 28., 30.],\n",
              "         [32., 34., 36., 38.]]))"
            ]
          },
          "metadata": {},
          "execution_count": 37
        }
      ]
    },
    {
      "cell_type": "markdown",
      "metadata": {
        "id": "nqAGPD7rD9sE"
      },
      "source": [
        "两个矩阵元素乘法，即*哈达玛积*（数学符号$\\odot$）"
      ]
    },
    {
      "cell_type": "code",
      "metadata": {
        "colab": {
          "base_uri": "https://localhost:8080/"
        },
        "id": "pEdoYYNZEXLz",
        "outputId": "6eba500f-7f1b-4846-f9d1-d546f9c71779"
      },
      "source": [
        "A * B"
      ],
      "execution_count": null,
      "outputs": [
        {
          "output_type": "execute_result",
          "data": {
            "text/plain": [
              "tensor([[  0.,   1.,   4.,   9.],\n",
              "        [ 16.,  25.,  36.,  49.],\n",
              "        [ 64.,  81., 100., 121.],\n",
              "        [144., 169., 196., 225.],\n",
              "        [256., 289., 324., 361.]])"
            ]
          },
          "metadata": {},
          "execution_count": 9
        }
      ]
    },
    {
      "cell_type": "code",
      "metadata": {
        "colab": {
          "base_uri": "https://localhost:8080/"
        },
        "id": "0dGSeZI6Ed7m",
        "outputId": "937c4287-2524-4d78-e46d-88130ea24e0f"
      },
      "source": [
        "a = 2\n",
        "X = torch.arange(24).reshape(2 , 3 , 4)\n",
        "a + X, (a * X).shape"
      ],
      "execution_count": null,
      "outputs": [
        {
          "output_type": "execute_result",
          "data": {
            "text/plain": [
              "(tensor([[[ 2,  3,  4,  5],\n",
              "          [ 6,  7,  8,  9],\n",
              "          [10, 11, 12, 13]],\n",
              " \n",
              "         [[14, 15, 16, 17],\n",
              "          [18, 19, 20, 21],\n",
              "          [22, 23, 24, 25]]]), torch.Size([2, 3, 4]))"
            ]
          },
          "metadata": {},
          "execution_count": 10
        }
      ]
    },
    {
      "cell_type": "markdown",
      "metadata": {
        "id": "GE2ha3FOE3a7"
      },
      "source": [
        "实现计算矩阵的元素和"
      ]
    },
    {
      "cell_type": "code",
      "metadata": {
        "colab": {
          "base_uri": "https://localhost:8080/"
        },
        "id": "wiNO9S3yE592",
        "outputId": "c069cd0e-64e0-495d-9cfd-6b0f538058ae"
      },
      "source": [
        "x = torch.arange(4, dtype=torch.float32)\n",
        "x, x.sum()"
      ],
      "execution_count": 3,
      "outputs": [
        {
          "output_type": "execute_result",
          "data": {
            "text/plain": [
              "(tensor([0., 1., 2., 3.]), tensor(6.))"
            ]
          },
          "metadata": {},
          "execution_count": 3
        }
      ]
    },
    {
      "cell_type": "markdown",
      "metadata": {
        "id": "g6SOdxkD4Zcz"
      },
      "source": [
        "表示任意形状张量的元素和"
      ]
    },
    {
      "cell_type": "code",
      "metadata": {
        "colab": {
          "base_uri": "https://localhost:8080/"
        },
        "id": "i-kZZYzq5Fnh",
        "outputId": "0ac0bd51-1940-456a-8359-48afb990d970"
      },
      "source": [
        "##A = torch.arange(20*2, dtype=torch.float32).reshape(2,5,4)\n",
        "##A.shape, A.sum(), A"
      ],
      "execution_count": null,
      "outputs": [
        {
          "output_type": "execute_result",
          "data": {
            "text/plain": [
              "(torch.Size([2, 5, 4]), tensor(780.), tensor([[[ 0.,  1.,  2.,  3.],\n",
              "          [ 4.,  5.,  6.,  7.],\n",
              "          [ 8.,  9., 10., 11.],\n",
              "          [12., 13., 14., 15.],\n",
              "          [16., 17., 18., 19.]],\n",
              " \n",
              "         [[20., 21., 22., 23.],\n",
              "          [24., 25., 26., 27.],\n",
              "          [28., 29., 30., 31.],\n",
              "          [32., 33., 34., 35.],\n",
              "          [36., 37., 38., 39.]]]))"
            ]
          },
          "metadata": {},
          "execution_count": 26
        }
      ]
    },
    {
      "cell_type": "code",
      "source": [
        "A_sum_axis1 = A.sum(axis=1)\n",
        "A_sum_axis1, A_sum_axis1.shape"
      ],
      "metadata": {
        "colab": {
          "base_uri": "https://localhost:8080/"
        },
        "id": "CECI5Trx9Y2y",
        "outputId": "b9225239-037b-482a-96a3-e7aa951acc51"
      },
      "execution_count": null,
      "outputs": [
        {
          "output_type": "execute_result",
          "data": {
            "text/plain": [
              "(tensor([[ 40,  45,  50,  55],\n",
              "         [140, 145, 150, 155]]), torch.Size([2, 4]))"
            ]
          },
          "metadata": {},
          "execution_count": 17
        }
      ]
    },
    {
      "cell_type": "code",
      "source": [
        "A.sum(axis=[0,1 ]).shape    #将0，1两个维度进行降维"
      ],
      "metadata": {
        "colab": {
          "base_uri": "https://localhost:8080/"
        },
        "id": "yNOBu1C_DObE",
        "outputId": "b6c5520f-70c1-40be-afa3-5fa515ca1208"
      },
      "execution_count": null,
      "outputs": [
        {
          "output_type": "execute_result",
          "data": {
            "text/plain": [
              "torch.Size([])"
            ]
          },
          "metadata": {},
          "execution_count": 46
        }
      ]
    },
    {
      "cell_type": "markdown",
      "metadata": {
        "id": "lmh8ttQr5fHg"
      },
      "source": [
        "指定求和会“汇总”张量的轴"
      ]
    },
    {
      "cell_type": "code",
      "source": [
        "A_sum_axis0 = A.sum(axis=0)\n",
        "A_sum_axis0, A_sum_axis0.shape"
      ],
      "metadata": {
        "colab": {
          "base_uri": "https://localhost:8080/"
        },
        "id": "Yd4yQIEF4w4y",
        "outputId": "849f051a-cda0-4a88-b118-abdd45d8ac98"
      },
      "execution_count": null,
      "outputs": [
        {
          "output_type": "execute_result",
          "data": {
            "text/plain": [
              "(tensor([40., 45., 50., 55.]), torch.Size([4]))"
            ]
          },
          "metadata": {},
          "execution_count": 45
        }
      ]
    },
    {
      "cell_type": "markdown",
      "source": [
        "平均值操作（mean或average）"
      ],
      "metadata": {
        "id": "wOviTCq95Oq5"
      }
    },
    {
      "cell_type": "code",
      "source": [
        "A.mean() , A.sum() / A.numel()      #使用【2，5，4】的高维矩阵报错，使用20代码块处的A不会报错.  解决：float32可解决，mean()要求要使用浮点数"
      ],
      "metadata": {
        "colab": {
          "base_uri": "https://localhost:8080/"
        },
        "id": "DzcCA9-r5UyZ",
        "outputId": "398e34d9-60db-4db8-c354-5cbac0d73815"
      },
      "execution_count": null,
      "outputs": [
        {
          "output_type": "execute_result",
          "data": {
            "text/plain": [
              "(tensor(9.5000), tensor(9.5000))"
            ]
          },
          "metadata": {},
          "execution_count": 39
        }
      ]
    },
    {
      "cell_type": "code",
      "source": [
        "A.mean(axis=0), A.sum(axis=0) / A.shape[0]"
      ],
      "metadata": {
        "colab": {
          "base_uri": "https://localhost:8080/"
        },
        "id": "Qxc4WHeZHiYP",
        "outputId": "770f10c0-66af-4687-80ea-6ae465969b72"
      },
      "execution_count": null,
      "outputs": [
        {
          "output_type": "execute_result",
          "data": {
            "text/plain": [
              "(tensor([ 8.,  9., 10., 11.]), tensor([ 8.,  9., 10., 11.]))"
            ]
          },
          "metadata": {},
          "execution_count": 38
        }
      ]
    },
    {
      "cell_type": "markdown",
      "source": [
        "###计算总和或均值时保持轴数不变，以便应用广播机制"
      ],
      "metadata": {
        "id": "zAtHq3TNK2VP"
      }
    },
    {
      "cell_type": "code",
      "source": [
        "sum_A1 = A.sum(axis=1, keepdim=True)     #应用广播机制\n",
        "\n",
        "sum_A2 = A.sum(axis=1)\n",
        "\n",
        "print(sum_A1, sum_A1.shape)\n",
        "print(sum_A2, sum_A2.shape)"
      ],
      "metadata": {
        "colab": {
          "base_uri": "https://localhost:8080/"
        },
        "id": "nv_ccNPZLBco",
        "outputId": "82aedb92-76d9-4aab-8084-b0b3d5ae587c"
      },
      "execution_count": null,
      "outputs": [
        {
          "output_type": "stream",
          "name": "stdout",
          "text": [
            "tensor([[ 6.],\n",
            "        [22.],\n",
            "        [38.],\n",
            "        [54.],\n",
            "        [70.]]) torch.Size([5, 1])\n",
            "tensor([ 6., 22., 38., 54., 70.]) torch.Size([5])\n"
          ]
        }
      ]
    },
    {
      "cell_type": "markdown",
      "source": [
        "###沿某一个轴计算A元素的累积总和"
      ],
      "metadata": {
        "id": "980FDSHwOgJJ"
      }
    },
    {
      "cell_type": "code",
      "source": [
        "A.cumsum(axis=0)  "
      ],
      "metadata": {
        "colab": {
          "base_uri": "https://localhost:8080/"
        },
        "id": "ZzT2CBhyOozK",
        "outputId": "78aeba62-23e8-4eb0-f8a9-6f8ae6bbf314"
      },
      "execution_count": null,
      "outputs": [
        {
          "output_type": "execute_result",
          "data": {
            "text/plain": [
              "tensor([[ 0.,  1.,  2.,  3.],\n",
              "        [ 4.,  6.,  8., 10.],\n",
              "        [12., 15., 18., 21.],\n",
              "        [24., 28., 32., 36.],\n",
              "        [40., 45., 50., 55.]])"
            ]
          },
          "metadata": {},
          "execution_count": 47
        }
      ]
    },
    {
      "cell_type": "markdown",
      "source": [
        "###点积"
      ],
      "metadata": {
        "id": "yv_2HRi8OG0M"
      }
    },
    {
      "cell_type": "markdown",
      "source": [
        "1.点积是相同位置的按元素乘积的和"
      ],
      "metadata": {
        "id": "VN0YKXY8OQiB"
      }
    },
    {
      "cell_type": "code",
      "source": [
        "import torch\n",
        "y = torch.ones(4, dtype=torch.float32)\n",
        "x, y, torch.dot(x, y), y.shape  #点积等价于先元素乘法再求和"
      ],
      "metadata": {
        "colab": {
          "base_uri": "https://localhost:8080/"
        },
        "id": "53beJsy8ONh3",
        "outputId": "9878ea33-43b9-4b33-a785-6b05e5608eb6"
      },
      "execution_count": 5,
      "outputs": [
        {
          "output_type": "execute_result",
          "data": {
            "text/plain": [
              "(tensor([0., 1., 2., 3.]),\n",
              " tensor([1., 1., 1., 1.]),\n",
              " tensor(6.),\n",
              " torch.Size([4]))"
            ]
          },
          "metadata": {},
          "execution_count": 5
        }
      ]
    },
    {
      "cell_type": "markdown",
      "source": [
        "2.矩阵的向量积$Ax$是一个长度为$m$的列向量,其第$i$个元素是点积$a_{i}^{T}x$"
      ],
      "metadata": {
        "id": "S0Ikg_zWbBSO"
      }
    },
    {
      "cell_type": "code",
      "source": [
        "A = torch.arange(20, dtype=torch.float32).reshape(5,4)\n",
        "A.shape, x.shape, torch.mv(A,x)"
      ],
      "metadata": {
        "colab": {
          "base_uri": "https://localhost:8080/"
        },
        "id": "NsGGUkpLQCU1",
        "outputId": "509bb0d4-0a7f-49f6-f068-e6572362aa79"
      },
      "execution_count": 6,
      "outputs": [
        {
          "output_type": "execute_result",
          "data": {
            "text/plain": [
              "(torch.Size([5, 4]), torch.Size([4]), tensor([ 14.,  38.,  62.,  86., 110.]))"
            ]
          },
          "metadata": {},
          "execution_count": 6
        }
      ]
    },
    {
      "cell_type": "markdown",
      "source": [
        "$AB$矩阵乘法"
      ],
      "metadata": {
        "id": "y_GsfMSMb8uU"
      }
    },
    {
      "cell_type": "code",
      "source": [
        "B = torch.ones(4,3)\n",
        "B, torch.mm(A,B)"
      ],
      "metadata": {
        "colab": {
          "base_uri": "https://localhost:8080/"
        },
        "id": "2-uEszmccKh7",
        "outputId": "16a43a61-cbd7-4e7a-d032-a43994bb5ebb"
      },
      "execution_count": 7,
      "outputs": [
        {
          "output_type": "execute_result",
          "data": {
            "text/plain": [
              "(tensor([[1., 1., 1.],\n",
              "         [1., 1., 1.],\n",
              "         [1., 1., 1.],\n",
              "         [1., 1., 1.]]), tensor([[ 6.,  6.,  6.],\n",
              "         [22., 22., 22.],\n",
              "         [38., 38., 38.],\n",
              "         [54., 54., 54.],\n",
              "         [70., 70., 70.]]))"
            ]
          },
          "metadata": {},
          "execution_count": 7
        }
      ]
    },
    {
      "cell_type": "markdown",
      "source": [
        "$L_{2}$范数是向量元素平方和的平方根：\n",
        "$||x||_{2}=\\sqrt{\\sum_{i=1}^{n} x_{i}^{2}}$"
      ],
      "metadata": {
        "id": "7FJq5kCNcau3"
      }
    },
    {
      "cell_type": "code",
      "source": [
        "u = torch.tensor([3.0, -4.0])\n",
        "\n",
        "u.shape, torch.norm(u)"
      ],
      "metadata": {
        "colab": {
          "base_uri": "https://localhost:8080/"
        },
        "id": "hckCwdxJdhia",
        "outputId": "28a5e008-8a0c-43d4-8056-290e64fc8164"
      },
      "execution_count": 9,
      "outputs": [
        {
          "output_type": "execute_result",
          "data": {
            "text/plain": [
              "(torch.Size([2]), tensor(5.))"
            ]
          },
          "metadata": {},
          "execution_count": 9
        }
      ]
    },
    {
      "cell_type": "markdown",
      "source": [
        "$L_{1}$范数是向量元素绝对值之和：\n",
        "$||x||_{1}=\\sum_{i=1}^{n} |x|$"
      ],
      "metadata": {
        "id": "Qxsy0He5d8zA"
      }
    },
    {
      "cell_type": "code",
      "source": [
        "torch.abs(u).sum()"
      ],
      "metadata": {
        "colab": {
          "base_uri": "https://localhost:8080/"
        },
        "id": "x5TBU2tlebz7",
        "outputId": "f96ec011-87e3-48e2-a731-4f0f69f0bcf1"
      },
      "execution_count": 10,
      "outputs": [
        {
          "output_type": "execute_result",
          "data": {
            "text/plain": [
              "tensor(7.)"
            ]
          },
          "metadata": {},
          "execution_count": 10
        }
      ]
    },
    {
      "cell_type": "markdown",
      "source": [
        "矩阵的$F$范数，矩阵元素的平方和的平方根：$||X||_{F}=\\sqrt{\\sum_{i=1}^{m} \\sum_{j=1}^{n}x_{ij}^{2}} $"
      ],
      "metadata": {
        "id": "5r3AZSYFesSB"
      }
    },
    {
      "cell_type": "code",
      "source": [
        "torch.norm(torch.ones(4, 9))"
      ],
      "metadata": {
        "colab": {
          "base_uri": "https://localhost:8080/"
        },
        "id": "IXrBwV07fHhy",
        "outputId": "e1e72d82-49fe-46b9-f432-8892367a5452"
      },
      "execution_count": 11,
      "outputs": [
        {
          "output_type": "execute_result",
          "data": {
            "text/plain": [
              "tensor(6.)"
            ]
          },
          "metadata": {},
          "execution_count": 11
        }
      ]
    },
    {
      "cell_type": "markdown",
      "source": [
        "#矩阵计算"
      ],
      "metadata": {
        "id": "79WgOnBOVJJu"
      }
    },
    {
      "cell_type": "markdown",
      "source": [
        "###梯度\n",
        "---\n",
        "梯度指向值变化最大的方向\n"
      ],
      "metadata": {
        "id": "PnGcnF9MW_GV"
      }
    },
    {
      "cell_type": "markdown",
      "source": [
        "###自动求导\n",
        "---\n",
        "原理来源于链式法则、计算机用计算图来实现，Tensflowflow、mxnet显示构造\n",
        "pytorch、mxnet也有隐式构造。"
      ],
      "metadata": {
        "id": "sAof4yHbgxod"
      }
    },
    {
      "cell_type": "markdown",
      "source": [
        "自动求导的实现"
      ],
      "metadata": {
        "id": "diruTe_Wjg59"
      }
    },
    {
      "cell_type": "code",
      "source": [
        "import torch"
      ],
      "metadata": {
        "id": "NjhatgryVLbu"
      },
      "execution_count": 10,
      "outputs": []
    },
    {
      "cell_type": "code",
      "source": [
        "x = torch.arange(4.0)\n",
        "x.requires_grad_(True)  #等价于 x = torch.arange(4.0, requires_grad=True)\n",
        "x.grad  #默认值为None"
      ],
      "metadata": {
        "id": "Ar_0USfPjuyO"
      },
      "execution_count": 11,
      "outputs": []
    },
    {
      "cell_type": "code",
      "source": [
        "y = 2 * torch.dot(x, x)\n",
        "y"
      ],
      "metadata": {
        "colab": {
          "base_uri": "https://localhost:8080/"
        },
        "id": "P6sJf1MAk8OK",
        "outputId": "d9ea0558-cd47-429c-f609-6dfbc76629d1"
      },
      "execution_count": 12,
      "outputs": [
        {
          "output_type": "execute_result",
          "data": {
            "text/plain": [
              "tensor(28., grad_fn=<MulBackward0>)"
            ]
          },
          "metadata": {},
          "execution_count": 12
        }
      ]
    },
    {
      "cell_type": "markdown",
      "source": [
        "通过调用反向传播函数来自动计算$y$关于$x$每个分量的梯度"
      ],
      "metadata": {
        "id": "U1t3cmGqlb2X"
      }
    },
    {
      "cell_type": "code",
      "source": [
        "y.backward()\n",
        "x.grad"
      ],
      "metadata": {
        "colab": {
          "base_uri": "https://localhost:8080/"
        },
        "id": "iEKeJ26hlnJe",
        "outputId": "c4f3063f-d171-4489-a63c-e2f936179a7a"
      },
      "execution_count": 13,
      "outputs": [
        {
          "output_type": "execute_result",
          "data": {
            "text/plain": [
              "tensor([ 0.,  4.,  8., 12.])"
            ]
          },
          "metadata": {},
          "execution_count": 13
        }
      ]
    },
    {
      "cell_type": "code",
      "source": [
        "x.grad == 4 * x"
      ],
      "metadata": {
        "colab": {
          "base_uri": "https://localhost:8080/"
        },
        "id": "GfBeyFuQ7KgO",
        "outputId": "92c2b73a-e1a6-4251-ec87-bc42fe12202f"
      },
      "execution_count": 14,
      "outputs": [
        {
          "output_type": "execute_result",
          "data": {
            "text/plain": [
              "tensor([True, True, True, True])"
            ]
          },
          "metadata": {},
          "execution_count": 14
        }
      ]
    },
    {
      "cell_type": "markdown",
      "source": [
        "计算$x$的另一个函数"
      ],
      "metadata": {
        "id": "8JHIAPhm7aMv"
      }
    },
    {
      "cell_type": "code",
      "source": [
        "# 默认情况下，PyTorch会累积梯度，需要清除之前的值\n",
        "#pytorch中_表示重写这个内容\n",
        "x.grad.zero_()\n",
        "y = x.sum()\n",
        "y.backward()\n",
        "x.grad"
      ],
      "metadata": {
        "colab": {
          "base_uri": "https://localhost:8080/"
        },
        "id": "dq36s9hb7hnZ",
        "outputId": "39af7fc4-26c4-4516-a9d0-4eea74c2795b"
      },
      "execution_count": 15,
      "outputs": [
        {
          "output_type": "execute_result",
          "data": {
            "text/plain": [
              "tensor([1., 1., 1., 1.])"
            ]
          },
          "metadata": {},
          "execution_count": 15
        }
      ]
    },
    {
      "cell_type": "markdown",
      "source": [
        "对于深度学习，我们的目的不是计算微分矩阵，而是批量计算每个样本单独计算的偏导数之和。"
      ],
      "metadata": {
        "id": "jcnbCGNq8XTN"
      }
    },
    {
      "cell_type": "code",
      "source": [
        "# 对于非标量调用'backward'需要传入一个'gradient'参数，该参数指定微分函数关于self的梯度\n",
        "x.grad.zero_()\n",
        "y = x * x\n",
        "#等价于y.backward(torch.ones(len(x)))\n",
        "y.sum().backward()\n",
        "x.grad"
      ],
      "metadata": {
        "colab": {
          "base_uri": "https://localhost:8080/"
        },
        "id": "F45-s0h58jOG",
        "outputId": "8b3053ac-680b-49f2-e874-3d7c3dbdcb19"
      },
      "execution_count": 16,
      "outputs": [
        {
          "output_type": "execute_result",
          "data": {
            "text/plain": [
              "tensor([0., 2., 4., 6.])"
            ]
          },
          "metadata": {},
          "execution_count": 16
        }
      ]
    },
    {
      "cell_type": "markdown",
      "source": [
        "将某些计算"
      ],
      "metadata": {
        "id": "BaZQSXL8Lu24"
      }
    },
    {
      "cell_type": "code",
      "source": [
        ""
      ],
      "metadata": {
        "id": "J_CezNfv9inW"
      },
      "execution_count": null,
      "outputs": []
    }
  ]
}